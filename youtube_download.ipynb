{
 "cells": [
  {
   "cell_type": "code",
   "execution_count": 1,
   "metadata": {},
   "outputs": [],
   "source": [
    "import os\n",
    "from pytube import YouTube\n",
    "import subprocess"
   ]
  },
  {
   "cell_type": "code",
   "execution_count": 15,
   "metadata": {},
   "outputs": [],
   "source": [
    "link = 'https://youtu.be/RU4QW0itpJk'\n",
    "\n",
    "name = 'THE CALLISTO PROTOCOL 02'\n",
    "\n",
    "resolution=\"2160\"\n",
    "\n",
    "path = os.path.join('a:\\\\', 'youtube')\n",
    "\n",
    "yt = YouTube(link,\n",
    "            # use_oauth=True\n",
    "             )\n",
    "videos = yt.streams"
   ]
  },
  {
   "cell_type": "code",
   "execution_count": 3,
   "metadata": {},
   "outputs": [
    {
     "name": "stdout",
     "output_type": "stream",
     "text": [
      "{'res': 'webm', 'video_id': 3, 'audio_id': 21}\n",
      "11.31 GB\n"
     ]
    }
   ],
   "source": [
    "video = {}\n",
    "audio = {}\n",
    "if videos:\n",
    "    for index, item in (enumerate(videos)):\n",
    "        item = str(item)\n",
    "        if resolution in item:\n",
    "            if 'mp4' in item:\n",
    "                video['mp4'] = index   \n",
    "            else:\n",
    "                video['webm'] = index\n",
    "        if 'audio' in item:\n",
    "            if 'mp4' in item:\n",
    "                item = item.split(' ')\n",
    "                abr = int(item[3][5:-5])\n",
    "                if not 'mp4' in audio:\n",
    "                    audio['mp4'] = {\n",
    "                        'id':index,\n",
    "                        'abr':abr\n",
    "                    } \n",
    "                elif audio['mp4']['abr'] < abr:\n",
    "                    audio['mp4'] = {\n",
    "                        'id':index,\n",
    "                        'abr':abr\n",
    "                    }       \n",
    "            else:\n",
    "                item = item.split(' ')\n",
    "                abr = int(item[3][5:-5])\n",
    "                if not 'webm' in audio:\n",
    "                    audio['webm'] = {\n",
    "                        'id':index,\n",
    "                        'abr':abr\n",
    "                    } \n",
    "                elif audio['webm']['abr'] < abr:\n",
    "                    audio['webm'] = {\n",
    "                        'id':index,\n",
    "                        'abr':abr\n",
    "                    }\n",
    "    if 'mp4' in video:\n",
    "        vdict = {\n",
    "            'res':'mp4',\n",
    "            'video_id': video['mp4'],\n",
    "            'audio_id': audio['mp4']['id']\n",
    "            }\n",
    "    else:\n",
    "        vdict = {\n",
    "            'res':'webm',\n",
    "            'video_id': video['webm'],\n",
    "            'audio_id': audio['webm']['id']\n",
    "            }\n",
    "\n",
    "    print(vdict)\n",
    "    print(round((videos[vdict['video_id']].filesize + videos[vdict['audio_id']].filesize)/(1024*1024*1024), 2),'GB')\n",
    "else:\n",
    "    print('Нет данных')"
   ]
  },
  {
   "cell_type": "code",
   "execution_count": 4,
   "metadata": {},
   "outputs": [
    {
     "name": "stdout",
     "output_type": "stream",
     "text": [
      "a:/youtube\\_video.webm\n",
      "a:/youtube\\_audio.webm\n"
     ]
    }
   ],
   "source": [
    "if video:\n",
    "    video_print = videos[vdict['video_id']].download(output_path=path, filename='_video.' + vdict['res'])\n",
    "    print(video_print)\n",
    "    audio_print = videos[vdict['audio_id']].download(output_path=path, filename='_audio.' + vdict['res'])\n",
    "    print(audio_print)"
   ]
  },
  {
   "cell_type": "code",
   "execution_count": 5,
   "metadata": {},
   "outputs": [],
   "source": [
    "if video:\n",
    "    args = [\n",
    "        'ffmpeg',\n",
    "        '-y',\n",
    "        '-i',\n",
    "        os.path.join(path, \"_video.\"+ vdict['res']),\n",
    "        '-i',\n",
    "        os.path.join(path, \"_audio.\"  + vdict['res']),\n",
    "        '-c',\n",
    "        'copy',\n",
    "        str(os.path.join(path, name + \".\" + vdict['res']))\n",
    "    ]\n",
    "    subprocess.run(args)\n"
   ]
  },
  {
   "cell_type": "code",
   "execution_count": 6,
   "metadata": {},
   "outputs": [],
   "source": [
    "if video:\n",
    "    # Удаляем файлы\n",
    "    os.remove(os.path.join(path, \"_video.\" + vdict['res']))\n",
    "    os.remove(os.path.join(path, \"_audio.\" + vdict['res']))"
   ]
  }
 ],
 "metadata": {
  "kernelspec": {
   "display_name": "Python 3.11.0 64-bit",
   "language": "python",
   "name": "python3"
  },
  "language_info": {
   "codemirror_mode": {
    "name": "ipython",
    "version": 3
   },
   "file_extension": ".py",
   "mimetype": "text/x-python",
   "name": "python",
   "nbconvert_exporter": "python",
   "pygments_lexer": "ipython3",
   "version": "3.11.0"
  },
  "orig_nbformat": 4,
  "vscode": {
   "interpreter": {
    "hash": "07fa51723cfdfdcfd96f4d831e9a58393b5ea734b6a2ccc6da0d746f7dd84b96"
   }
  }
 },
 "nbformat": 4,
 "nbformat_minor": 2
}
