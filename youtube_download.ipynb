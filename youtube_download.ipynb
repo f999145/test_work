{
 "cells": [
  {
   "cell_type": "code",
   "execution_count": 2,
   "metadata": {},
   "outputs": [],
   "source": [
    "import os\n",
    "from pytube import YouTube\n",
    "import subprocess"
   ]
  },
  {
   "cell_type": "code",
   "execution_count": 3,
   "metadata": {},
   "outputs": [],
   "source": [
    "link = 'https://youtu.be/gLpCxY2hsp0'\n",
    "\n",
    "name = 'god of war ragnarok 6'\n",
    "\n",
    "resolution=\"1440\"\n",
    "\n",
    "path = \"a:\\\\\"\n",
    "\n",
    "yt = YouTube(link)\n",
    "videos = yt.streams"
   ]
  },
  {
   "cell_type": "code",
   "execution_count": 4,
   "metadata": {},
   "outputs": [
    {
     "name": "stdout",
     "output_type": "stream",
     "text": [
      "{'res': 'webm', 'video_id': 4, 'audio_id': 21}\n"
     ]
    }
   ],
   "source": [
    "video = {}\n",
    "audio = {}\n",
    "for index, item in (enumerate(videos)):\n",
    "    item = str(item)\n",
    "    if resolution in item:\n",
    "        if 'mp4' in item:\n",
    "            video['mp4'] = index   \n",
    "        else:\n",
    "            video['webm'] = index\n",
    "    if 'audio' in item:\n",
    "        if 'mp4' in item:\n",
    "            item = item.split(' ')\n",
    "            abr = int(item[3][5:-5])\n",
    "            if not 'mp4' in audio:\n",
    "                audio['mp4'] = {\n",
    "                    'id':index,\n",
    "                    'abr':abr\n",
    "                } \n",
    "            elif audio['mp4']['abr'] < abr:\n",
    "                audio['mp4'] = {\n",
    "                    'id':index,\n",
    "                    'abr':abr\n",
    "                }       \n",
    "        else:\n",
    "            item = item.split(' ')\n",
    "            abr = int(item[3][5:-5])\n",
    "            if not 'webm' in audio:\n",
    "                audio['webm'] = {\n",
    "                    'id':index,\n",
    "                    'abr':abr\n",
    "                } \n",
    "            elif audio['webm']['abr'] < abr:\n",
    "                audio['webm'] = {\n",
    "                    'id':index,\n",
    "                    'abr':abr\n",
    "                }\n",
    "if 'mp4' in video:\n",
    "    vdict = {\n",
    "        'res':'mp4',\n",
    "        'video_id': video['mp4'],\n",
    "        'audio_id': audio['mp4']['id']\n",
    "        }\n",
    "else:\n",
    "    vdict = {\n",
    "        'res':'webm',\n",
    "        'video_id': video['webm'],\n",
    "        'audio_id': audio['webm']['id']\n",
    "        }\n",
    "\n",
    "print(vdict)"
   ]
  },
  {
   "cell_type": "code",
   "execution_count": 6,
   "metadata": {},
   "outputs": [
    {
     "name": "stdout",
     "output_type": "stream",
     "text": [
      "a:\\_video.webm\n",
      "a:\\_audio.webm\n"
     ]
    }
   ],
   "source": [
    "video_print = videos[vdict['video_id']].download(output_path=path, filename='_video.' + vdict['res'])\n",
    "print(video_print)\n",
    "audio_print = videos[vdict['audio_id']].download(output_path=path, filename='_audio.' + vdict['res'])\n",
    "print(audio_print)"
   ]
  },
  {
   "cell_type": "code",
   "execution_count": 7,
   "metadata": {},
   "outputs": [
    {
     "data": {
      "text/plain": [
       "CompletedProcess(args=['ffmpeg', '-i', 'a:\\\\_video.webm', '-i', 'a:\\\\_audio.webm', '-c', 'copy', 'a:\\\\god of war ragnarok 6.webm'], returncode=0)"
      ]
     },
     "execution_count": 7,
     "metadata": {},
     "output_type": "execute_result"
    }
   ],
   "source": [
    "args = [\n",
    "    'ffmpeg',\n",
    "    '-y',\n",
    "    '-i',\n",
    "    os.path.join(path, \"_video.\"+ vdict['res']),\n",
    "    '-i',\n",
    "    os.path.join(path, \"_audio.\"  + vdict['res']),\n",
    "    '-c',\n",
    "    'copy',\n",
    "    str(os.path.join(path, name + \".\" + vdict['res']))\n",
    "]\n",
    "subprocess.run(args)\n"
   ]
  },
  {
   "cell_type": "code",
   "execution_count": 8,
   "metadata": {},
   "outputs": [],
   "source": [
    "# Удаляем файлы\n",
    "os.remove(os.path.join(path, \"_video.\" + vdict['res']))\n",
    "os.remove(os.path.join(path, \"_audio.\" + vdict['res']))"
   ]
  },
  {
   "cell_type": "code",
   "execution_count": 8,
   "metadata": {},
   "outputs": [
    {
     "name": "stdout",
     "output_type": "stream",
     "text": [
      "ffmpeg -y -i a:\\god of war ragnarok 6.webm -crf 18 -profile:v high -level 5.2 a:\\god of war ragnarok 6 converted.mp4\n"
     ]
    }
   ],
   "source": [
    "args = [\n",
    "    'ffmpeg', # какую прогамму запустить\n",
    "    '-y', # если файл существует, заменить без уведомления\n",
    "    '-i', # Указывает что дальше будет файл\n",
    "    str(os.path.join(path, name + \".\" + vdict['res'])),\n",
    "    '-c:v', # указание на кодировку видео\n",
    "    'h264_nvenc', # кодек видео\n",
    "    '-crf', # Качесто видео\n",
    "    '18', # Чем меньше тем выше качество и больше видео\n",
    "    '-profile:v', # профиль видео для декодера\n",
    "    'high', # профиль видео\n",
    "    '-level', # уровень видео для декодера\n",
    "    '5.2', # уровень видео\n",
    "    str(os.path.join(path, name +' converted'+\".mp4\"))\n",
    "]\n",
    "# resolution 1440p           \n",
    "# cpu           speed=1.85x\n",
    "# cpu+gpu       speed= 1.5x\n",
    "# gpu(nvenc)    speed=4.29x\n",
    "subprocess.run(args)\n",
    "# print(' '.join(args))"
   ]
  }
 ],
 "metadata": {
  "kernelspec": {
   "display_name": "Python 3.11.0 64-bit",
   "language": "python",
   "name": "python3"
  },
  "language_info": {
   "codemirror_mode": {
    "name": "ipython",
    "version": 3
   },
   "file_extension": ".py",
   "mimetype": "text/x-python",
   "name": "python",
   "nbconvert_exporter": "python",
   "pygments_lexer": "ipython3",
   "version": "3.11.0"
  },
  "orig_nbformat": 4,
  "vscode": {
   "interpreter": {
    "hash": "07fa51723cfdfdcfd96f4d831e9a58393b5ea734b6a2ccc6da0d746f7dd84b96"
   }
  }
 },
 "nbformat": 4,
 "nbformat_minor": 2
}
