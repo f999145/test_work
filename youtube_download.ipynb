{
 "cells": [
  {
   "cell_type": "code",
   "execution_count": 1,
   "metadata": {},
   "outputs": [],
   "source": [
    "import os\n",
    "from pytube import YouTube\n",
    "import subprocess"
   ]
  },
  {
   "cell_type": "code",
   "execution_count": 4,
   "metadata": {},
   "outputs": [],
   "source": [
    "link = 'https://youtu.be/6_hxth-sr9Q'\n",
    "\n",
    "name = 'Git и GitHub для Data Science'\n",
    "\n",
    "resolution=\"1080\"\n",
    "\n",
    "path = \"a:/youtube\"\n",
    "\n",
    "yt = YouTube(link,\n",
    "            # use_oauth=True\n",
    "             )\n",
    "videos = yt.streams"
   ]
  },
  {
   "cell_type": "code",
   "execution_count": 5,
   "metadata": {},
   "outputs": [
    {
     "name": "stdout",
     "output_type": "stream",
     "text": [
      "{'res': 'mp4', 'video_id': 3, 'audio_id': 16}\n",
      "0.25 GB\n"
     ]
    }
   ],
   "source": [
    "video = {}\n",
    "audio = {}\n",
    "for index, item in (enumerate(videos)):\n",
    "    item = str(item)\n",
    "    if resolution in item:\n",
    "        if 'mp4' in item:\n",
    "            video['mp4'] = index   \n",
    "        else:\n",
    "            video['webm'] = index\n",
    "    if 'audio' in item:\n",
    "        if 'mp4' in item:\n",
    "            item = item.split(' ')\n",
    "            abr = int(item[3][5:-5])\n",
    "            if not 'mp4' in audio:\n",
    "                audio['mp4'] = {\n",
    "                    'id':index,\n",
    "                    'abr':abr\n",
    "                } \n",
    "            elif audio['mp4']['abr'] < abr:\n",
    "                audio['mp4'] = {\n",
    "                    'id':index,\n",
    "                    'abr':abr\n",
    "                }       \n",
    "        else:\n",
    "            item = item.split(' ')\n",
    "            abr = int(item[3][5:-5])\n",
    "            if not 'webm' in audio:\n",
    "                audio['webm'] = {\n",
    "                    'id':index,\n",
    "                    'abr':abr\n",
    "                } \n",
    "            elif audio['webm']['abr'] < abr:\n",
    "                audio['webm'] = {\n",
    "                    'id':index,\n",
    "                    'abr':abr\n",
    "                }\n",
    "if 'mp4' in video:\n",
    "    vdict = {\n",
    "        'res':'mp4',\n",
    "        'video_id': video['mp4'],\n",
    "        'audio_id': audio['mp4']['id']\n",
    "        }\n",
    "else:\n",
    "    vdict = {\n",
    "        'res':'webm',\n",
    "        'video_id': video['webm'],\n",
    "        'audio_id': audio['webm']['id']\n",
    "        }\n",
    "\n",
    "print(vdict)\n",
    "print(round((videos[vdict['video_id']].filesize + videos[vdict['audio_id']].filesize)/(1024*1024*1024), 2),'GB')"
   ]
  },
  {
   "cell_type": "code",
   "execution_count": 6,
   "metadata": {},
   "outputs": [
    {
     "name": "stdout",
     "output_type": "stream",
     "text": [
      "a:/youtube\\_video.mp4\n",
      "a:/youtube\\_audio.mp4\n"
     ]
    }
   ],
   "source": [
    "video_print = videos[vdict['video_id']].download(output_path=path, filename='_video.' + vdict['res'])\n",
    "print(video_print)\n",
    "audio_print = videos[vdict['audio_id']].download(output_path=path, filename='_audio.' + vdict['res'])\n",
    "print(audio_print)"
   ]
  },
  {
   "cell_type": "code",
   "execution_count": 7,
   "metadata": {},
   "outputs": [
    {
     "data": {
      "text/plain": [
       "CompletedProcess(args=['ffmpeg', '-y', '-i', 'a:/youtube\\\\_video.mp4', '-i', 'a:/youtube\\\\_audio.mp4', '-c', 'copy', 'a:/youtube\\\\Git и GitHub для Data Science.mp4'], returncode=0)"
      ]
     },
     "execution_count": 7,
     "metadata": {},
     "output_type": "execute_result"
    }
   ],
   "source": [
    "args = [\n",
    "    'ffmpeg',\n",
    "    '-y',\n",
    "    '-i',\n",
    "    os.path.join(path, \"_video.\"+ vdict['res']),\n",
    "    '-i',\n",
    "    os.path.join(path, \"_audio.\"  + vdict['res']),\n",
    "    '-c',\n",
    "    'copy',\n",
    "    str(os.path.join(path, name + \".\" + vdict['res']))\n",
    "]\n",
    "subprocess.run(args)\n"
   ]
  },
  {
   "cell_type": "code",
   "execution_count": 8,
   "metadata": {},
   "outputs": [],
   "source": [
    "# Удаляем файлы\n",
    "os.remove(os.path.join(path, \"_video.\" + vdict['res']))\n",
    "os.remove(os.path.join(path, \"_audio.\" + vdict['res']))"
   ]
  },
  {
   "cell_type": "code",
   "execution_count": 8,
   "metadata": {},
   "outputs": [
    {
     "name": "stdout",
     "output_type": "stream",
     "text": [
      "ffmpeg -y -i a:\\god of war ragnarok 6.webm -crf 18 -profile:v high -level 5.2 a:\\god of war ragnarok 6 converted.mp4\n"
     ]
    }
   ],
   "source": [
    "args = [\n",
    "    'ffmpeg', # какую прогамму запустить\n",
    "    '-y', # если файл существует, заменить без уведомления\n",
    "    '-i', # Указывает что дальше будет файл\n",
    "    str(os.path.join(path, name + \".\" + vdict['res'])),\n",
    "    '-c:v', # указание на кодировку видео\n",
    "    'h264_nvenc', # кодек видео\n",
    "    '-crf', # Качесто видео\n",
    "    '18', # Чем меньше тем выше качество и больше видео\n",
    "    '-profile:v', # профиль видео для декодера\n",
    "    'high', # профиль видео\n",
    "    '-level', # уровень видео для декодера\n",
    "    '5.2', # уровень видео\n",
    "    str(os.path.join(path, name +' converted'+\".mp4\"))\n",
    "]\n",
    "# resolution 1440p           \n",
    "# cpu           speed=1.85x\n",
    "# cpu+gpu       speed= 1.5x\n",
    "# gpu(nvenc)    speed=4.29x\n",
    "subprocess.run(args)\n",
    "# print(' '.join(args))"
   ]
  },
  {
   "cell_type": "code",
   "execution_count": 12,
   "metadata": {},
   "outputs": [
    {
     "name": "stdout",
     "output_type": "stream",
     "text": [
      "ffmpeg -i a:/god of war ragnarok the movie.mp4 -c copy -map 0 -segment_time 02:00:00 -f segment a:/god of war ragnarok the movie output\\%03d.mp4\n"
     ]
    }
   ],
   "source": [
    "# разбитие видео на равные по времени фрагменты\n",
    "args = [\n",
    "    'ffmpeg',\n",
    "    '-i',\n",
    "    str(os.path.join(path, name +\".mp4\")),\n",
    "    '-c',\n",
    "    'copy',\n",
    "    '-map',\n",
    "    '0',\n",
    "    '-segment_time',\n",
    "    '02:00:00',\n",
    "    '-f',\n",
    "    'segment',\n",
    "    str(os.path.join(path, name +' output%03d'+\".mp4\")),\n",
    "    ]\n",
    "# subprocess.run(args)\n",
    "print(' '.join(args))"
   ]
  },
  {
   "cell_type": "markdown",
   "metadata": {},
   "source": [
    "Сокращение с использованием длительности \n",
    "> ffmpeg -i input.mp4 -ss 00:05:20 -t 00:10:00 -c:v copy -c:a copy output1.mp4\n",
    "Приведенная выше команда будет принимать входное видео input.mp4, и вырежет из него 10 минут , начиная с 00:05:20\n",
    "\n",
    "Вырезать, используя определенное время \n",
    "> ffmpeg -i input.mp4 -ss 00:05:10 -to 00:15:30 -c:v copy -c:a copy output2.mp4\n",
    "\n",
    "Вырезать конец видео\n",
    "> ffmpeg -sseof -600 -i input.mp4 -c copy output5.mp4\n",
    "> ffmpeg -sseof -00:10:00 -i input.mp4 -c copy output6.mp4\n",
    "\n",
    "Вырезание с перекодированием\n",
    "> ffmpeg -ss 00:05:20 -accurate_seek -i input.mp4 -t 00:10:00 -c:v libx264 -c:a aac output7.mp4\n",
    "> \n",
    "В приведенной выше команде мы перекодируем аудио и видео при вырезании видео, а также используем `-accurate_seek` установите флажок, который приведет к более точной длине выходного видео. \n"
   ]
  }
 ],
 "metadata": {
  "kernelspec": {
   "display_name": "Python 3.11.0 64-bit",
   "language": "python",
   "name": "python3"
  },
  "language_info": {
   "codemirror_mode": {
    "name": "ipython",
    "version": 3
   },
   "file_extension": ".py",
   "mimetype": "text/x-python",
   "name": "python",
   "nbconvert_exporter": "python",
   "pygments_lexer": "ipython3",
   "version": "3.11.0"
  },
  "orig_nbformat": 4,
  "vscode": {
   "interpreter": {
    "hash": "07fa51723cfdfdcfd96f4d831e9a58393b5ea734b6a2ccc6da0d746f7dd84b96"
   }
  }
 },
 "nbformat": 4,
 "nbformat_minor": 2
}
