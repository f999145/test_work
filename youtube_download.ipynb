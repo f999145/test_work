{
 "cells": [
  {
   "cell_type": "code",
   "execution_count": 1,
   "metadata": {},
   "outputs": [],
   "source": [
    "import os\n",
    "from pytube import YouTube\n",
    "import subprocess"
   ]
  },
  {
   "cell_type": "code",
   "execution_count": 32,
   "metadata": {},
   "outputs": [],
   "source": [
    "link = 'https://youtu.be/Qp0j29sl-0E'\n",
    "\n",
    "name = 'Анатомия для художников 3D скульптинг для начинающих'\n",
    "\n",
    "path = \"d:\\youtube\""
   ]
  },
  {
   "cell_type": "code",
   "execution_count": 21,
   "metadata": {},
   "outputs": [
    {
     "name": "stdout",
     "output_type": "stream",
     "text": [
      "d:\\youtube\\_video.mp4\n",
      "d:\\youtube\\_audio.mp4\n"
     ]
    }
   ],
   "source": [
    "yt = YouTube(link)\n",
    "\n",
    "# download video\n",
    "r_video = yt.streams.filter(resolution=\"1080p\").first().download(path, \"_video.mp4\")\n",
    "print(r_video)\n",
    "# download audio\n",
    "r_audio = yt.streams.filter(only_audio=True).first().download(path, \"_audio.mp4\")\n",
    "print(r_audio)\n"
   ]
  },
  {
   "cell_type": "code",
   "execution_count": 33,
   "metadata": {},
   "outputs": [],
   "source": [
    "#name = name.replace(' ','_')\n",
    "# Создание исполняемого файла\n",
    "f = open(os.path.join(path, '_ffmpeg.bat') , 'w', encoding='cp866')\n",
    "f.write('ffmpeg -i ')\n",
    "f.write(os.path.join(path, \"_video.mp4\"))\n",
    "f.write(' -i ')\n",
    "f.write(os.path.join(path, \"_audio.mp4\"))\n",
    "f.write(' -c copy ')\n",
    "f.write('\\\"')\n",
    "f.write(os.path.join(path, name + \".mp4\"))\n",
    "f.write('\\\"')\n",
    "#f.write('\\n')\n",
    "#f.write('pause')\n",
    "f.close()"
   ]
  },
  {
   "cell_type": "code",
   "execution_count": 30,
   "metadata": {},
   "outputs": [
    {
     "data": {
      "text/plain": [
       "<Popen: returncode: None args: 'd:\\\\youtube\\\\_ffmpeg.bat'>"
      ]
     },
     "execution_count": 30,
     "metadata": {},
     "output_type": "execute_result"
    }
   ],
   "source": [
    "# Объединение видео с аудио\n",
    "subprocess.Popen(os.path.join(path, '_ffmpeg.bat'))"
   ]
  },
  {
   "cell_type": "code",
   "execution_count": 20,
   "metadata": {},
   "outputs": [],
   "source": [
    "# Удаляем файлы\n",
    "os.remove(os.path.join(path, \"_video.mp4\"))\n",
    "os.remove(os.path.join(path, \"_audio.mp4\"))\n",
    "os.remove(os.path.join(path, '_ffmpeg.bat'))"
   ]
  }
 ],
 "metadata": {
  "kernelspec": {
   "display_name": "Python 3.11.0 64-bit",
   "language": "python",
   "name": "python3"
  },
  "language_info": {
   "codemirror_mode": {
    "name": "ipython",
    "version": 3
   },
   "file_extension": ".py",
   "mimetype": "text/x-python",
   "name": "python",
   "nbconvert_exporter": "python",
   "pygments_lexer": "ipython3",
   "version": "3.11.0"
  },
  "orig_nbformat": 4,
  "vscode": {
   "interpreter": {
    "hash": "07fa51723cfdfdcfd96f4d831e9a58393b5ea734b6a2ccc6da0d746f7dd84b96"
   }
  }
 },
 "nbformat": 4,
 "nbformat_minor": 2
}
