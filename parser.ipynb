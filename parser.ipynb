{
 "cells": [
  {
   "cell_type": "code",
   "execution_count": 26,
   "metadata": {},
   "outputs": [],
   "source": [
    "import requests\n",
    "from bs4 import BeautifulSoup\n",
    "import schedule\n",
    "import time"
   ]
  },
  {
   "cell_type": "code",
   "execution_count": 51,
   "metadata": {},
   "outputs": [],
   "source": [
    "origin = 574\n",
    "url = 'https://www.panda-novel.com/details/shadow-slave(YN)-1413'"
   ]
  },
  {
   "cell_type": "code",
   "execution_count": 56,
   "metadata": {},
   "outputs": [
    {
     "ename": "KeyboardInterrupt",
     "evalue": "",
     "output_type": "error",
     "traceback": [
      "\u001b[1;31m---------------------------------------------------------------------------\u001b[0m",
      "\u001b[1;31mKeyboardInterrupt\u001b[0m                         Traceback (most recent call last)",
      "Cell \u001b[1;32mIn [56], line 17\u001b[0m\n\u001b[0;32m     15\u001b[0m     \u001b[39mbreak\u001b[39;00m\n\u001b[0;32m     16\u001b[0m schedule\u001b[39m.\u001b[39mrun_pending()\n\u001b[1;32m---> 17\u001b[0m time\u001b[39m.\u001b[39;49msleep(\u001b[39m30\u001b[39;49m)\n",
      "\u001b[1;31mKeyboardInterrupt\u001b[0m: "
     ]
    }
   ],
   "source": [
    "div = origin\n",
    "def task():\n",
    "    global div\n",
    "    response = requests.get(url=url)\n",
    "    soup = BeautifulSoup(response.text, 'html.parser')\n",
    "    div = soup.find('i', class_='iconfont icon-chapter').find_next().text\n",
    "    return\n",
    "\n",
    "schedule.every(1).minutes.do(task)\n",
    "\n",
    "while True:\n",
    "    \n",
    "    if int(div) != origin:\n",
    "        print(div)\n",
    "        break\n",
    "    schedule.run_pending()\n",
    "    time.sleep(30)"
   ]
  }
 ],
 "metadata": {
  "kernelspec": {
   "display_name": "Python 3.11.0 64-bit",
   "language": "python",
   "name": "python3"
  },
  "language_info": {
   "codemirror_mode": {
    "name": "ipython",
    "version": 3
   },
   "file_extension": ".py",
   "mimetype": "text/x-python",
   "name": "python",
   "nbconvert_exporter": "python",
   "pygments_lexer": "ipython3",
   "version": "3.11.0"
  },
  "orig_nbformat": 4,
  "vscode": {
   "interpreter": {
    "hash": "07fa51723cfdfdcfd96f4d831e9a58393b5ea734b6a2ccc6da0d746f7dd84b96"
   }
  }
 },
 "nbformat": 4,
 "nbformat_minor": 2
}
