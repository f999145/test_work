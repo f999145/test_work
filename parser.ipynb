{
 "cells": [
  {
   "cell_type": "code",
   "execution_count": 6,
   "metadata": {},
   "outputs": [],
   "source": [
    "import requests\n",
    "from bs4 import BeautifulSoup\n",
    "url = 'https://kwork.ru/categories/script-programming?sdisplay=list'\n",
    "response = requests.get(url=url)"
   ]
  },
  {
   "cell_type": "code",
   "execution_count": 7,
   "metadata": {},
   "outputs": [],
   "source": [
    "page = BeautifulSoup(response.text, 'html.parser')"
   ]
  },
  {
   "cell_type": "code",
   "execution_count": 80,
   "metadata": {},
   "outputs": [
    {
     "name": "stdout",
     "output_type": "stream",
     "text": [
      "['cusongslist clearfix cusongslist_3_column c3c cusongslist_p_none kwork-list-list']\n"
     ]
    }
   ],
   "source": [
    "div = page.find_all()#, {'class': 'newfox'})\n",
    "tags = {tag.name for tag in div}\n",
    "class_list = set()\n",
    "for tag in tags:\n",
    "    for i in page.find_all(tag):\n",
    "        if i.has_attr('class'):\n",
    "            if len(i['class']):\n",
    "                class_list.add(' '.join(i['class']))\n",
    "# print(class_list)\n",
    "def ssersh (text: str, iter_list):\n",
    "    find_list = []\n",
    "    for item in iter_list:\n",
    "        if text in item:\n",
    "            find_list.append(item)\n",
    "    return find_list\n",
    "\n",
    "print(ssersh('cuson', class_list))\n"
   ]
  }
 ],
 "metadata": {
  "kernelspec": {
   "display_name": "Python 3.11.0 64-bit",
   "language": "python",
   "name": "python3"
  },
  "language_info": {
   "codemirror_mode": {
    "name": "ipython",
    "version": 3
   },
   "file_extension": ".py",
   "mimetype": "text/x-python",
   "name": "python",
   "nbconvert_exporter": "python",
   "pygments_lexer": "ipython3",
   "version": "3.11.0"
  },
  "orig_nbformat": 4,
  "vscode": {
   "interpreter": {
    "hash": "07fa51723cfdfdcfd96f4d831e9a58393b5ea734b6a2ccc6da0d746f7dd84b96"
   }
  }
 },
 "nbformat": 4,
 "nbformat_minor": 2
}
